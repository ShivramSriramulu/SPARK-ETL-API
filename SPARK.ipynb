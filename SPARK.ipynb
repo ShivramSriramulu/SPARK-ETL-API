{
 "cells": [
  {
   "cell_type": "code",
   "execution_count": 1,
   "id": "236096ff",
   "metadata": {},
   "outputs": [
    {
     "name": "stdout",
     "output_type": "stream",
     "text": [
      "Requirement already satisfied: pyspark in ./anaconda3/lib/python3.11/site-packages (3.5.0)\n",
      "Requirement already satisfied: py4j==0.10.9.7 in ./anaconda3/lib/python3.11/site-packages (from pyspark) (0.10.9.7)\n",
      "Requirement already satisfied: findspark in ./anaconda3/lib/python3.11/site-packages (2.0.1)\n"
     ]
    }
   ],
   "source": [
    "!pip install pyspark\n",
    "!pip install findspark"
   ]
  },
  {
   "cell_type": "code",
   "execution_count": 41,
   "id": "22d95edd",
   "metadata": {},
   "outputs": [],
   "source": [
    "import json\n",
    "import requests\n",
    "from pyspark.sql import SparkSession"
   ]
  },
  {
   "cell_type": "code",
   "execution_count": 42,
   "id": "baae1c19",
   "metadata": {},
   "outputs": [],
   "source": [
    "# Function to read data from the API\n",
    "def read_api(url):\n",
    "    response = requests.get(url)\n",
    "    return response.text"
   ]
  },
  {
   "cell_type": "code",
   "execution_count": 43,
   "id": "625b76da",
   "metadata": {},
   "outputs": [],
   "source": [
    "url = \"jdbc:mysql://127.0.0.1:3306/sau\"\n",
    "mysql_properties = {\n",
    "    \"user\": \"root\",\n",
    "    \"password\": \"Shivramsriramulu1234\",\n",
    "    \"driver\": \"com.mysql.jdbc.Driver\"\n",
    "}\n"
   ]
  },
  {
   "cell_type": "code",
   "execution_count": 44,
   "id": "643ca0c1",
   "metadata": {},
   "outputs": [],
   "source": [
    "import findspark\n",
    "findspark.init()\n",
    "\n",
    "from pyspark.sql import SparkSession\n",
    "\n",
    "spark = SparkSession.builder \\\n",
    "    .appName(\"PySpark MySQL Connection\") \\\n",
    "    .config(\"spark.jars\", \"/Users/shivramsriramulu/Downloads/mysql-connector-java-8.0.27.jar\") \\\n",
    "    .getOrCreate()"
   ]
  },
  {
   "cell_type": "code",
   "execution_count": 4,
   "id": "9804c7fa",
   "metadata": {},
   "outputs": [
    {
     "data": {
      "text/html": [
       "\n",
       "            <div>\n",
       "                <p><b>SparkSession - in-memory</b></p>\n",
       "                \n",
       "        <div>\n",
       "            <p><b>SparkContext</b></p>\n",
       "\n",
       "            <p><a href=\"http://10.0.0.222:4040\">Spark UI</a></p>\n",
       "\n",
       "            <dl>\n",
       "              <dt>Version</dt>\n",
       "                <dd><code>v3.5.0</code></dd>\n",
       "              <dt>Master</dt>\n",
       "                <dd><code>local[*]</code></dd>\n",
       "              <dt>AppName</dt>\n",
       "                <dd><code>PySpark MySQL Connection</code></dd>\n",
       "            </dl>\n",
       "        </div>\n",
       "        \n",
       "            </div>\n",
       "        "
      ],
      "text/plain": [
       "<pyspark.sql.session.SparkSession at 0x109defc50>"
      ]
     },
     "execution_count": 4,
     "metadata": {},
     "output_type": "execute_result"
    }
   ],
   "source": [
    "spark"
   ]
  },
  {
   "cell_type": "code",
   "execution_count": 45,
   "id": "b75ad082",
   "metadata": {},
   "outputs": [],
   "source": [
    "# API URL\n",
    "api_url = r\"https://api.coindesk.com/v1/bpi/currentprice.json\""
   ]
  },
  {
   "cell_type": "code",
   "execution_count": 46,
   "id": "048ab970",
   "metadata": {},
   "outputs": [],
   "source": [
    "api_data = read_api(api_url)\n",
    "payload = json.loads(api_data)\n",
    "\n",
    "# Extract relevant data\n",
    "bpi_data = payload.get(\"bpi\", {})"
   ]
  },
  {
   "cell_type": "code",
   "execution_count": 47,
   "id": "a421cf39",
   "metadata": {},
   "outputs": [],
   "source": [
    "# Create PySpark DataFrame\n",
    "data = [(key, value.get(\"rate_float\")) for key, value in bpi_data.items()]\n",
    "columns = [\"currency\", \"rate\"]\n",
    "df = spark.createDataFrame(data, columns)"
   ]
  },
  {
   "cell_type": "code",
   "execution_count": 50,
   "id": "b31a6c59",
   "metadata": {},
   "outputs": [
    {
     "name": "stdout",
     "output_type": "stream",
     "text": [
      "+--------+----------+\n",
      "|currency|      rate|\n",
      "+--------+----------+\n",
      "|     USD|42678.6367|\n",
      "|     GBP|35661.9274|\n",
      "|     EUR|41575.2232|\n",
      "+--------+----------+\n",
      "\n"
     ]
    }
   ],
   "source": [
    "df.show()"
   ]
  },
  {
   "cell_type": "code",
   "execution_count": 12,
   "id": "76b82776",
   "metadata": {},
   "outputs": [],
   "source": [
    "import requests, json\n",
    "def read_api(url: str):\n",
    "    normalized_data = dict()\n",
    "    data = requests.get(api_url).json() \n",
    "    normalized_data[\"_data\"] = data # Normalize payload to handle array situtations\n",
    "    return json.dumps(normalized_data)"
   ]
  },
  {
   "cell_type": "code",
   "execution_count": 49,
   "id": "d03aec2d",
   "metadata": {},
   "outputs": [
    {
     "name": "stderr",
     "output_type": "stream",
     "text": [
      "                                                                                \r"
     ]
    }
   ],
   "source": [
    "# Write DataFrame to MySQL\n",
    "df.write.jdbc(url=url, table=\"tripdata\", mode=\"overwrite\", properties=mysql_properties)"
   ]
  },
  {
   "cell_type": "code",
   "execution_count": null,
   "id": "fe9097e1",
   "metadata": {},
   "outputs": [],
   "source": []
  }
 ],
 "metadata": {
  "kernelspec": {
   "display_name": "Python 3 (ipykernel)",
   "language": "python",
   "name": "python3"
  },
  "language_info": {
   "codemirror_mode": {
    "name": "ipython",
    "version": 3
   },
   "file_extension": ".py",
   "mimetype": "text/x-python",
   "name": "python",
   "nbconvert_exporter": "python",
   "pygments_lexer": "ipython3",
   "version": "3.11.5"
  }
 },
 "nbformat": 4,
 "nbformat_minor": 5
}
